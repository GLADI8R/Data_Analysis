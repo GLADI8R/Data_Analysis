{
 "cells": [
  {
   "cell_type": "code",
   "execution_count": 95,
   "metadata": {},
   "outputs": [],
   "source": [
    "import pandas as pd\n",
    "import matplotlib.pyplot as plt"
   ]
  },
  {
   "cell_type": "code",
   "execution_count": 96,
   "metadata": {},
   "outputs": [
    {
     "data": {
      "text/plain": [
       "<bound method NDFrame.head of                           title   type titlereleased rating  quality  \\\n",
       "0                      #blackAF     TV          2020  TV-MA  UltraHD   \n",
       "1              #cats_the_mewvie     TV          2020  TV-14  SuperHD   \n",
       "2                  #realityhigh     TV          2017  TV-14  UltraHD   \n",
       "3                     #Rucker50     TV          2016   TV-G  SuperHD   \n",
       "4                       #Selfie     TV          2014  TV-MA  SuperHD   \n",
       "...                         ...    ...           ...    ...      ...   \n",
       "5637       Turkish Dance School  Movie          2017  TV-MA      NaN   \n",
       "5638  Good Game: The Beginning   Movie          2018  TV-14      NaN   \n",
       "5639   My Step Dad: The Hippie   Movie          2018  TV-MA      NaN   \n",
       "5640          Leyla Everlasting  Movie          2020  TV-MA      NaN   \n",
       "5641                Stuck Apart  Movie          2020  TV-MA      NaN   \n",
       "\n",
       "                                                 actors  \\\n",
       "0     Kenya Barris, Rashida Jones, Iman Benson, Genn...   \n",
       "1                                                   NaN   \n",
       "2     Nesta Cooper, Kate Walsh, John Michael Higgins...   \n",
       "3                                                   NaN   \n",
       "4     Flavia Hojda, Crina Semciuc, Olimpia Melinte, ...   \n",
       "...                                                 ...   \n",
       "5637  Binnur Kaya, Demet Özdemir, Uraz Kaygilaroglu,...   \n",
       "5638  Mert Yazicioglu, Afra Saraçoglu, Orkun Isitmak...   \n",
       "5639  Onur Buldu, Mahir Ipek, Derya Karadas, Onur At...   \n",
       "5640  Haluk Bilginer, Demet Akbag, Elçin Sangu, Fira...   \n",
       "5641  Engin Günaydin, Haluk Bilginer, Binnur Kaya, Ö...   \n",
       "\n",
       "                         director              category imdb   runtime  \\\n",
       "0                             NaN                   NaN  6.6       NaN   \n",
       "1                Michael Margolis                   NaN  5.2        89   \n",
       "2                Fernando Lebrija                   NaN  5.2        99   \n",
       "3           Robert McCullough Jr.                   NaN  5.3        56   \n",
       "4                  Cristina Jacob                   NaN  6.1       125   \n",
       "...                           ...                   ...  ...       ...   \n",
       "5637                  Burak Aksak                Comedy  NaN   106 min   \n",
       "5638                    Umut Aral  Comedy, Drama, Sport  NaN  104 mins   \n",
       "5639               Meltem Bozoflu                Comedy  NaN    99 min   \n",
       "5640                    Ezel Akay                Comedy  NaN  112 mins   \n",
       "5641  Durul Taylan, Yagmur Taylan         Drama, Comedy  NaN   96 mins   \n",
       "\n",
       "      netflixid date_released  \\\n",
       "0      81056700    2020-04-17   \n",
       "1      81218137    2020-02-05   \n",
       "2      80125979    2017-09-08   \n",
       "3      80147908    2016-12-01   \n",
       "4      81092768    2019-06-01   \n",
       "...         ...           ...   \n",
       "5637   81314930    2020-10-02   \n",
       "5638   81319138    2020-10-04   \n",
       "5639   81314934    2020-10-09   \n",
       "5640   81316256    2020-12-04   \n",
       "5641   81345777    2021-01-08   \n",
       "\n",
       "                                            description  4k language  \n",
       "0     Kenya Barris and his family navigate relations...   1  english  \n",
       "1     This pawesome documentary explores how our fel...   0  english  \n",
       "2     When nerdy high schooler Dani finally attracts...   1  english  \n",
       "3     This documentary celebrates the 50th anniversa...   0  english  \n",
       "4     Two days before their final exams, three teen ...   0    other  \n",
       "...                                                 ...  ..      ...  \n",
       "5637  A woman recovering from an attempted suicide m...   1  turkish  \n",
       "5638  New high school grad and avid gamer Cenk is re...   1  turkish  \n",
       "5639  When three adult siblings meet the offbeat man...   1  turkish  \n",
       "5640  A resilient housewife, her husband and their m...   1  turkish  \n",
       "5641  Entrenched in a midlife crisis, Aziz seeks sol...   1  turkish  \n",
       "\n",
       "[5642 rows x 15 columns]>"
      ]
     },
     "execution_count": 96,
     "metadata": {},
     "output_type": "execute_result"
    }
   ],
   "source": [
    "df = pd.read_csv('netflix_movies_and_tv_shows.csv')\n",
    "df.head"
   ]
  },
  {
   "cell_type": "code",
   "execution_count": 97,
   "metadata": {},
   "outputs": [
    {
     "data": {
      "text/plain": [
       "title            object\n",
       "type             object\n",
       "titlereleased    object\n",
       "rating           object\n",
       "imdb             object\n",
       "runtime          object\n",
       "language         object\n",
       "dtype: object"
      ]
     },
     "execution_count": 97,
     "metadata": {},
     "output_type": "execute_result"
    }
   ],
   "source": [
    "cols = ['title', 'type', 'titlereleased', 'rating', 'imdb', 'runtime', 'language']\n",
    "x = df[cols]\n",
    "x.dtypes"
   ]
  },
  {
   "cell_type": "code",
   "execution_count": 98,
   "metadata": {},
   "outputs": [
    {
     "name": "stderr",
     "output_type": "stream",
     "text": [
      "C:\\Users\\DELL\\AppData\\Local\\Temp/ipykernel_9808/2235467153.py:1: SettingWithCopyWarning: \n",
      "A value is trying to be set on a copy of a slice from a DataFrame.\n",
      "Try using .loc[row_indexer,col_indexer] = value instead\n",
      "\n",
      "See the caveats in the documentation: https://pandas.pydata.org/pandas-docs/stable/user_guide/indexing.html#returning-a-view-versus-a-copy\n",
      "  x['imdb'] = pd.to_numeric(x['imdb'], errors='coerce')\n",
      "C:\\Users\\DELL\\AppData\\Local\\Temp/ipykernel_9808/2235467153.py:2: SettingWithCopyWarning: \n",
      "A value is trying to be set on a copy of a slice from a DataFrame.\n",
      "Try using .loc[row_indexer,col_indexer] = value instead\n",
      "\n",
      "See the caveats in the documentation: https://pandas.pydata.org/pandas-docs/stable/user_guide/indexing.html#returning-a-view-versus-a-copy\n",
      "  x['titlereleased'] = pd.to_numeric(x['titlereleased'], errors='coerce')\n",
      "C:\\Users\\DELL\\AppData\\Local\\Temp/ipykernel_9808/2235467153.py:3: SettingWithCopyWarning: \n",
      "A value is trying to be set on a copy of a slice from a DataFrame.\n",
      "Try using .loc[row_indexer,col_indexer] = value instead\n",
      "\n",
      "See the caveats in the documentation: https://pandas.pydata.org/pandas-docs/stable/user_guide/indexing.html#returning-a-view-versus-a-copy\n",
      "  x['runtime'] = pd.to_numeric(x['runtime'], errors='coerce')\n"
     ]
    },
    {
     "data": {
      "text/plain": [
       "title             object\n",
       "type              object\n",
       "titlereleased    float64\n",
       "rating            object\n",
       "imdb             float64\n",
       "runtime          float64\n",
       "language          object\n",
       "dtype: object"
      ]
     },
     "execution_count": 98,
     "metadata": {},
     "output_type": "execute_result"
    }
   ],
   "source": [
    "x['imdb'] = pd.to_numeric(x['imdb'], errors='coerce')\n",
    "x['titlereleased'] = pd.to_numeric(x['titlereleased'], errors='coerce')\n",
    "x['runtime'] = pd.to_numeric(x['runtime'], errors='coerce')\n",
    "x.dtypes"
   ]
  },
  {
   "cell_type": "code",
   "execution_count": 99,
   "metadata": {},
   "outputs": [
    {
     "data": {
      "text/plain": [
       "title               0\n",
       "type                0\n",
       "titlereleased     215\n",
       "rating              0\n",
       "imdb             1235\n",
       "runtime          2736\n",
       "language            0\n",
       "dtype: int64"
      ]
     },
     "execution_count": 99,
     "metadata": {},
     "output_type": "execute_result"
    }
   ],
   "source": [
    "x.isnull().sum()"
   ]
  },
  {
   "cell_type": "markdown",
   "metadata": {},
   "source": [
    "Since there are a large number of NaN values, we cannot drop them.\n",
    "Using df.interpolate()  "
   ]
  },
  {
   "cell_type": "code",
   "execution_count": 100,
   "metadata": {},
   "outputs": [
    {
     "data": {
      "text/plain": [
       "title            0\n",
       "type             0\n",
       "titlereleased    0\n",
       "rating           0\n",
       "imdb             0\n",
       "runtime          1\n",
       "language         0\n",
       "dtype: int64"
      ]
     },
     "execution_count": 100,
     "metadata": {},
     "output_type": "execute_result"
    }
   ],
   "source": [
    "x = x.interpolate()\n",
    "x.isnull().sum()"
   ]
  }
 ],
 "metadata": {
  "interpreter": {
   "hash": "5ae58900cfbb8c43ab3495913814b7cf26024f51651a94ce8bf64d6111688e8d"
  },
  "kernelspec": {
   "display_name": "Python 3.9.7 ('base')",
   "language": "python",
   "name": "python3"
  },
  "language_info": {
   "codemirror_mode": {
    "name": "ipython",
    "version": 3
   },
   "file_extension": ".py",
   "mimetype": "text/x-python",
   "name": "python",
   "nbconvert_exporter": "python",
   "pygments_lexer": "ipython3",
   "version": "3.9.7"
  },
  "orig_nbformat": 4
 },
 "nbformat": 4,
 "nbformat_minor": 2
}
